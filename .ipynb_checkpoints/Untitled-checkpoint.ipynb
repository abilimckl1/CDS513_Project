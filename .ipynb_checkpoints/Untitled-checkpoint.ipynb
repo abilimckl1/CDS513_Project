{
 "cells": [
  {
   "cell_type": "code",
   "execution_count": 1,
   "id": "3eb0cad4",
   "metadata": {},
   "outputs": [],
   "source": [
    "import pandas as pd\n",
    "import os"
   ]
  },
  {
   "cell_type": "code",
   "execution_count": 5,
   "id": "61fc0a3e",
   "metadata": {},
   "outputs": [],
   "source": [
    "cwd = os.getcwd()\n",
    "input = cwd + \"\\\\input\""
   ]
  },
  {
   "cell_type": "code",
   "execution_count": 6,
   "id": "d2917388",
   "metadata": {},
   "outputs": [
    {
     "data": {
      "text/plain": [
       "'D:\\\\CDS513\\\\Project\\\\input'"
      ]
     },
     "execution_count": 6,
     "metadata": {},
     "output_type": "execute_result"
    }
   ],
   "source": [
    "df_credits = input+\"credits\""
   ]
  },
  {
   "cell_type": "code",
   "execution_count": null,
   "id": "ecbcf3a3",
   "metadata": {},
   "outputs": [],
   "source": []
  }
 ],
 "metadata": {
  "kernelspec": {
   "display_name": "Python 3 (ipykernel)",
   "language": "python",
   "name": "python3"
  },
  "language_info": {
   "codemirror_mode": {
    "name": "ipython",
    "version": 3
   },
   "file_extension": ".py",
   "mimetype": "text/x-python",
   "name": "python",
   "nbconvert_exporter": "python",
   "pygments_lexer": "ipython3",
   "version": "3.10.9"
  }
 },
 "nbformat": 4,
 "nbformat_minor": 5
}
